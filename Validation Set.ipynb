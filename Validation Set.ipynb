{
 "cells": [
  {
   "cell_type": "code",
   "execution_count": 1,
   "metadata": {
    "collapsed": true
   },
   "outputs": [],
   "source": [
    "import pandas as pd"
   ]
  },
  {
   "cell_type": "code",
   "execution_count": 3,
   "metadata": {
    "collapsed": true
   },
   "outputs": [],
   "source": [
    "features8 = ['iyear', \n",
    "             'imonth',\n",
    "             'iday',\n",
    "             'multiple',\n",
    "             'success',\n",
    "             'suicide',\n",
    "             'nkill',\n",
    "             'nkillus',\n",
    "             'nkillter',\n",
    "             'nwound',\n",
    "             'nwoundte',\n",
    "             'ishostkid',\n",
    "             'property']\n",
    "            \n",
    "\n",
    "# Features below need to be trasnformed into dummy matrix \n",
    "features_cat8 = ['country_txt',\n",
    "                 'city',\n",
    "                 'attacktype1_txt',\n",
    "                 'weaptype1_txt',\n",
    "                 'targtype1_txt',\n",
    "                 'natlty1_txt']\n",
    "\n",
    "labels8 = ['gname']\n",
    "\n"
   ]
  },
  {
   "cell_type": "code",
   "execution_count": 5,
   "metadata": {},
   "outputs": [
    {
     "data": {
      "text/html": [
       "<div>\n",
       "<style>\n",
       "    .dataframe thead tr:only-child th {\n",
       "        text-align: right;\n",
       "    }\n",
       "\n",
       "    .dataframe thead th {\n",
       "        text-align: left;\n",
       "    }\n",
       "\n",
       "    .dataframe tbody tr th {\n",
       "        vertical-align: top;\n",
       "    }\n",
       "</style>\n",
       "<table border=\"1\" class=\"dataframe\">\n",
       "  <thead>\n",
       "    <tr style=\"text-align: right;\">\n",
       "      <th></th>\n",
       "      <th>gname</th>\n",
       "      <th>iyear</th>\n",
       "      <th>imonth</th>\n",
       "      <th>iday</th>\n",
       "      <th>multiple</th>\n",
       "      <th>success</th>\n",
       "      <th>suicide</th>\n",
       "      <th>nkill</th>\n",
       "      <th>nkillus</th>\n",
       "      <th>nkillter</th>\n",
       "      <th>nwound</th>\n",
       "      <th>nwoundte</th>\n",
       "      <th>ishostkid</th>\n",
       "      <th>property</th>\n",
       "      <th>country_txt</th>\n",
       "      <th>city</th>\n",
       "      <th>attacktype1_txt</th>\n",
       "      <th>weaptype1_txt</th>\n",
       "      <th>targtype1_txt</th>\n",
       "      <th>natlty1_txt</th>\n",
       "    </tr>\n",
       "  </thead>\n",
       "  <tbody>\n",
       "  </tbody>\n",
       "</table>\n",
       "</div>"
      ],
      "text/plain": [
       "Empty DataFrame\n",
       "Columns: [gname, iyear, imonth, iday, multiple, success, suicide, nkill, nkillus, nkillter, nwound, nwoundte, ishostkid, property, country_txt, city, attacktype1_txt, weaptype1_txt, targtype1_txt, natlty1_txt]\n",
       "Index: []"
      ]
     },
     "execution_count": 5,
     "metadata": {},
     "output_type": "execute_result"
    }
   ],
   "source": [
    "df_v = pd.DataFrame(\n",
    "            {'gname': [],\n",
    "             'iyear': [], \n",
    "             'imonth': [],\n",
    "             'iday': [],\n",
    "             'multiple': [],\n",
    "             'success': [],\n",
    "             'suicide': [],\n",
    "             'nkill': [],\n",
    "             'nkillus': [],\n",
    "             'nkillter': [],\n",
    "             'nwound': [],\n",
    "             'nwoundte': [],\n",
    "             'ishostkid': [],\n",
    "             'property': [],\n",
    "             'country_txt': [],\n",
    "             'city': [],\n",
    "             'attacktype1_txt': [],\n",
    "             'weaptype1_txt': [],\n",
    "             'targtype1_txt': [],\n",
    "             'natlty1_txt': []}, \n",
    "              columns=labels8 + features8 + features_cat8)\n",
    "df_v = pd.get_dummies(df_v, columns=features_cat8)\n",
    "\n",
    "Xv = df_v.iloc[:,1:]\n",
    "yv = df_v.iloc[:,0]"
   ]
  },
  {
   "cell_type": "code",
   "execution_count": 7,
   "metadata": {
    "collapsed": true
   },
   "outputs": [],
   "source": [
    "df_8=pd.DataFrame(columns=[\"A\",\"B\",\"c\"])"
   ]
  },
  {
   "cell_type": "code",
   "execution_count": 8,
   "metadata": {
    "collapsed": true
   },
   "outputs": [],
   "source": [
    "dfv=pd.DataFrame(columns=df_8.columns)"
   ]
  },
  {
   "cell_type": "code",
   "execution_count": 9,
   "metadata": {},
   "outputs": [
    {
     "data": {
      "text/html": [
       "<div>\n",
       "<style>\n",
       "    .dataframe thead tr:only-child th {\n",
       "        text-align: right;\n",
       "    }\n",
       "\n",
       "    .dataframe thead th {\n",
       "        text-align: left;\n",
       "    }\n",
       "\n",
       "    .dataframe tbody tr th {\n",
       "        vertical-align: top;\n",
       "    }\n",
       "</style>\n",
       "<table border=\"1\" class=\"dataframe\">\n",
       "  <thead>\n",
       "    <tr style=\"text-align: right;\">\n",
       "      <th></th>\n",
       "      <th>A</th>\n",
       "      <th>B</th>\n",
       "      <th>c</th>\n",
       "    </tr>\n",
       "  </thead>\n",
       "  <tbody>\n",
       "  </tbody>\n",
       "</table>\n",
       "</div>"
      ],
      "text/plain": [
       "Empty DataFrame\n",
       "Columns: [A, B, c]\n",
       "Index: []"
      ]
     },
     "execution_count": 9,
     "metadata": {},
     "output_type": "execute_result"
    }
   ],
   "source": [
    "dfv"
   ]
  },
  {
   "cell_type": "code",
   "execution_count": null,
   "metadata": {
    "collapsed": true
   },
   "outputs": [],
   "source": []
  }
 ],
 "metadata": {
  "kernelspec": {
   "display_name": "Python 3",
   "language": "python",
   "name": "python3"
  },
  "language_info": {
   "codemirror_mode": {
    "name": "ipython",
    "version": 3
   },
   "file_extension": ".py",
   "mimetype": "text/x-python",
   "name": "python",
   "nbconvert_exporter": "python",
   "pygments_lexer": "ipython3",
   "version": "3.6.3"
  }
 },
 "nbformat": 4,
 "nbformat_minor": 2
}
